{
 "cells": [
  {
   "attachments": {},
   "cell_type": "markdown",
   "metadata": {},
   "source": [
    "# HW1"
   ]
  },
  {
   "attachments": {},
   "cell_type": "markdown",
   "metadata": {},
   "source": [
    "## ОПИСАНИЕ РАБОТЫ\n",
    "\n",
    "был реализован oracle branch predictor для conditional branches. было произведено сравнение oracle branch predictor с hashed perceptron branch predictor"
   ]
  },
  {
   "attachments": {},
   "cell_type": "markdown",
   "metadata": {},
   "source": [
    "## РЕЗУЛЬТАТЫ\n",
    "\n",
    "в ходе работы не удалось достигнуть нулевого MPKI на ряде бенчмарков "
   ]
  },
  {
   "attachments": {},
   "cell_type": "markdown",
   "metadata": {},
   "source": [
    "## MPKI\n",
    "\n",
    "![MPKI](out-bck/mpki.png \"MPKI\")\n"
   ]
  }
 ],
 "metadata": {
  "language_info": {
   "name": "python"
  },
  "orig_nbformat": 4
 },
 "nbformat": 4,
 "nbformat_minor": 2
}
